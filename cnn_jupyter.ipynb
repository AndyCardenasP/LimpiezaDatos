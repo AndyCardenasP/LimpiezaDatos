{
	"cells": [{
			"cell_type": "code",
			"execution_count": 5,
			"metadata": {},
			"outputs": [],
			"source": [
				"import numpy as np\n",
				"import os\n",
				"import re\n",
				"import matplotlib.pyplot as plt\n",
				"from sklearn.metrics import classification_report\n",
				"import keras\n",
				"from keras.models import Sequential\n",
				"from keras.layers import Dense, Dropout, Flatten\n",
				"from keras.layers import Conv2D, MaxPooling2D\n",
				"from sklearn.metrics import confusion_matrix\n",
				"import tensorflow as tf\n",
				"from tensorflow.keras.preprocessing.image import ImageDataGenerator\n",
				"\n",
				"IMG_SIZE = 32"
			]
		},
		{
			"cell_type": "code",
			"execution_count": 6,
			"metadata": {},
			"outputs": [{
				"name": "stdout",
				"output_type": "stream",
				"text": [
					"Found 1633 files belonging to 8 classes.\n"
				]
			}],
			"source": [
				"train_ds = tf.keras.utils.image_dataset_from_directory(os.path.join(os.getcwd(), 'CarneDataset/train'),seed =123,image_size=(IMG_SIZE,IMG_SIZE))\n",
				"classes_train = train_ds.class_names\n",
				"nClasses_train = len(classes_train)"
			]
		},
		{
			"attachments": {},
			"cell_type": "markdown",
			"metadata": {},
			"source": [
				"\n",
				"Creamos el modelo de CNN con sus parametros"
			]
		},
		{
			"cell_type": "code",
			"execution_count": 7,
			"metadata": {},
			"outputs": [],
			"source": [
				"epochs = 10",
				"batch_size = 64",
				"\n",
				"classifier_model = Sequential([\n",
				"    tf.keras.layers.Rescaling(1./255,input_shape = (IMG_SIZE,IMG_SIZE,3)),\n",
				"    Conv2D(16,3,activation='relu',padding='same'),\n",
				"    MaxPooling2D(),\n",
				"    Conv2D(32,3,activation='relu',padding='same'),\n",
				"    MaxPooling2D(),\n",
				"    Conv2D(64,3,activation='relu',padding='same'),\n",
				"    MaxPooling2D(),\n",
				"    Flatten(),\n",
				"    Dropout(0.5),\n",
				"    Dense(128,activation='relu'),\n",
				"    Dense(nClasses_train)\n",
				"])\n",
				"optimizer = keras.optimizers.Adam(learning_rate=1e-3)\n",
				"classifier_model.compile(optimizer=optimizer, \n",
				"                        loss=tf.keras.losses.SparseCategoricalCrossentropy(from_logits=True),\n",
				"                        metrics=[\"accuracy\"])"
			]
		},
		{
			"attachments": {},
			"cell_type": "markdown",
			"metadata": {},
			"source": [
				"Entrenamos el modelo CNN"
			]
		},
		{
			"cell_type": "code",
			"execution_count": 8,
			"metadata": {},
			"outputs": [{
				"name": "stdout",
				"output_type": "stream",
				"text": [
					"52/52 [==============================] - 1s 45ms/step - loss: 1.4075 - accuracy: 0.5713\n",
					"Epoch 1/10\n",
					"52/52 [==============================] - 1s 41ms/step - loss: 1.2174 - accuracy: 0.5903\n",
					"Epoch 2/10\n",
					"52/52 [==============================] - 1s 42ms/step - loss: 0.9015 - accuracy: 0.6816\n",
					"Epoch 3/10\n",
					"52/52 [==============================] - 1s 50ms/step - loss: 0.6664 - accuracy: 0.7446\n",
					"Epoch 4/10\n",
					"52/52 [==============================] - 1s 51ms/step - loss: 0.5447 - accuracy: 0.7924\n",
					"Epoch 5/10\n",
					"52/52 [==============================] - 1s 46ms/step - loss: 0.4778 - accuracy: 0.8026\n",
					"Epoch 6/10\n",
					"52/52 [==============================] - 1s 39ms/step - loss: 0.4268 - accuracy: 0.8530\n",
					"Epoch 7/10\n",
					"52/52 [==============================] - 1s 47ms/step - loss: 0.4766 - accuracy: 0.8700\n",
					"Epoch 8/10\n",
					"52/52 [==============================] - 1s 47ms/step - loss: 0.3934 - accuracy: 0.9030\n",
					"Epoch 9/10\n",
					"52/52 [==============================] - 1s 47ms/step - loss: 0.3648 - accuracy: 0.9230\n",
					"Epoch 10/10\n",
					"52/52 [==============================] - 1s 43ms/step - loss: 0.3912 - accuracy: 0.9430\n"
				]
			}],
			"source": [
				"classifier_train = classifier_model.fit(train_ds,batch_size=batch_size,epochs=epochs)"
			]
		},
		{
			"attachments": {},
			"cell_type": "markdown",
			"metadata": {},
			"source": [
				"Predicción para Test"
			]
		},
		{
			"cell_type": "code",
			"execution_count": 10,
			"metadata": {},
			"outputs": [{
					"name": "stdout",
					"output_type": "stream",
					"text": [
						"Found 810 images belonging to 8 classes.\n"
					]
				},
				{
					"name": "stdout",
					"output_type": "stream",
					"text": [
						"26/26 [==============================] - 2s 150ms/step\n",
						"Correct test values 766 from 810\n",
						"Porcentaje valores correctos: 90.12\n"
					]
				},
				{
					"data": {
						"text/plain": [
							"array([[  0,   0,   0,   0,   0,   0,   1,   0],\n",
							"       [  0,  40,   0,   9,   0,   0,   0,   0],\n",
							"       [  0,   0,  73,   0,   2,   0,  20,   0],\n",
							"       [  0,   2,   0,  43,   0,   1,   0,   0],\n",
							"       [  0,   1,   5,   0, 441,   0,   4,   7],\n",
							"       [  0,   0,   0,   0,   4,  15,   0,   0],\n",
							"       [  0,   0,   8,   2,   4,   0, 100,   0],\n",
							"       [  0,   0,   0,   0,   7,   0,   0,  20]])"
						]
					},
					"execution_count": 10,
					"metadata": {},
					"output_type": "execute_result"
				}
			],
			"source": [
				"datagen = ImageDataGenerator()\n",
				"test_generator = datagen.flow_from_directory(os.path.join(os.getcwd(), 'CarneDataset/test'),\n",
				"                                            target_size = (IMG_SIZE,IMG_SIZE),class_mode = 'categorical',shuffle=False)\n",
				"\n",
				"\n",
				"\n",
				"predicted_test = classifier_model.predict(test_generator)\n",
				"\n",
				"y_predict_test = np.argmax(predicted_test,axis=1)\n",
				"y_real_test = test_generator.classes\n",
				"correct_test = np.where(y_predict_test==y_real_test)[0]\n",
				"\n",
				"print ('Correct test values %s from %s'%(len(correct_test),len(y_real_test)))\n",
				"print ('Porcentaje valores correctos: %.2f'%(len(correct_test)/len(y_real_test)*100))\n",
				"confusion_matrix(y_real_test, y_predict_test)"
			]
		},
		{
			"cell_type": "code",
			"execution_count": 12,
			"metadata": {},
			"outputs": [{
					"name": "stdout",
					"output_type": "stream",
					"text": [
						"52/52 [==============================] - 7s 127ms/step\n",
						"Correct train values 1607 from 1633\n",
						"Porcentaje valores correctos: 98.43\n"
					]
				},
				{
					"data": {
						"text/plain": [
							"array([[ 61,   0,   2,   0,   0,   0,   0],\n",
							"       [  0, 196,   0,   3,   0,  13,   0],\n",
							"       [  0,   0, 104,   0,   0,   0,   0],\n",
							"       [  0,   4,   0, 942,   0,   3,   1],\n",
							"       [  0,   0,   0,   1,  35,   0,   0],\n",
							"       [  1,   0,   1,   0,   0, 201,   0],\n",
							"       [  0,   0,   0,   0,   0,   0,  62]])"
						]
					},
					"execution_count": 12,
					"metadata": {},
					"output_type": "execute_result"
				}
			],
			"source": [
				"train_generator = datagen.flow_from_directory(os.path.join(os.getcwd(), 'CarneDataset/train'),\n",
				"                                            target_size = (IMG_SIZE,IMG_SIZE),class_mode = 'categorical',shuffle=False)\n",
				"\n",
				"predicted_train = classifier_model.predict(train_generator)\n",
				"y_predict_train = np.argmax(predicted_train,axis=1)\n",
				"y_real_train = train_generator.classes\n",
				"correct_train = np.where(y_predict_train==y_real_train)[0]\n",
				"\n",
				"print ('Correct train values %s from %s'%(len(correct_train),len(y_real_train)))\n",
				"print ('Porcentaje valores correctos: %.2f'%(len(correct_train)/len(y_real_train)*100))\n",
				"confusion_matrix(y_real_train, y_predict_train)"
			]
		}
	],
	"metadata": {
		"kernelspec": {
			"display_name": "ven",
			"language": "python",
			"name": "python3"
		},
		"language_info": {
			"codemirror_mode": {
				"name": "ipython",
				"version": 3
			},
			"file_extension": ".py",
			"mimetype": "text/x-python",
			"name": "python",
			"nbconvert_exporter": "python",
			"pygments_lexer": "ipython3",
			"version": "3.8.10"
		},
		"orig_nbformat": 4
	},
	"nbformat": 4,
	"nbformat_minor": 2
}
